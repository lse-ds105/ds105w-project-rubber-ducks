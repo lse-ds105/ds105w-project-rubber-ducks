{
 "cells": [
  {
   "cell_type": "markdown",
   "metadata": {},
   "source": [
    "# Data Collection\n",
    "- Get list of 20 most visited cities.\n",
    "- Create a dictionary with coordinates of 20 most visited cities."
   ]
  },
  {
   "cell_type": "code",
   "execution_count": 1,
   "metadata": {},
   "outputs": [
    {
     "name": "stderr",
     "output_type": "stream",
     "text": [
      "c:\\Users\\dunan\\anaconda3\\lib\\site-packages\\pandas\\core\\computation\\expressions.py:21: UserWarning: Pandas requires version '2.8.4' or newer of 'numexpr' (version '2.8.3' currently installed).\n",
      "  from pandas.core.computation.check import NUMEXPR_INSTALLED\n",
      "c:\\Users\\dunan\\anaconda3\\lib\\site-packages\\pandas\\core\\arrays\\masked.py:60: UserWarning: Pandas requires version '1.3.6' or newer of 'bottleneck' (version '1.3.5' currently installed).\n",
      "  from pandas.core import (\n"
     ]
    }
   ],
   "source": [
    "import tqdm\n",
    "import urllib\n",
    "import pandas as pd\n",
    "import requests\n",
    "from scrapy import Selector\n",
    "import json\n",
    "import custom_functions as cf\n",
    "import openmeteo_requests\n",
    "import requests_cache\n",
    "from retry_requests import retry\n",
    "from sqlalchemy import create_engine"
   ]
  },
  {
   "cell_type": "code",
   "execution_count": null,
   "metadata": {},
   "outputs": [],
   "source": [
    "from geopy.geocoders import Nominatim\n"
   ]
  },
  {
   "cell_type": "markdown",
   "metadata": {},
   "source": [
    "### Get a list of the 20 most visited cities:"
   ]
  },
  {
   "cell_type": "code",
   "execution_count": 2,
   "metadata": {},
   "outputs": [],
   "source": [
    "cities_url = \"https://travelness.com/most-visited-cities-in-the-world\" # URL of the page with the list of cities\n",
    "\n",
    "response = requests.get(cities_url)\n",
    "sel = Selector(response)\n",
    "\n",
    "cities = sel.xpath(\"//table//tr/td[2]/text()\").getall()"
   ]
  },
  {
   "cell_type": "markdown",
   "metadata": {},
   "source": [
    "### Get the City Stereotypes about weather for these 20 cities"
   ]
  },
  {
   "cell_type": "code",
   "execution_count": 3,
   "metadata": {},
   "outputs": [],
   "source": [
    "suggestion_list = cf.extract_words(cities)"
   ]
  },
  {
   "cell_type": "code",
   "execution_count": 4,
   "metadata": {},
   "outputs": [],
   "source": [
    "filtered_weather_words = cf.filter_weather_words(suggestion_list)"
   ]
  },
  {
   "cell_type": "code",
   "execution_count": 5,
   "metadata": {},
   "outputs": [],
   "source": [
    "# Export the dict to a json file\n",
    "with open('./../data/filtered_weather_words.json','w') as file:\n",
    "    json.dump(filtered_weather_words,file)"
   ]
  },
  {
   "cell_type": "markdown",
   "metadata": {},
   "source": [
    "### Use OpenStreetMaps API to convert the city names into coordinates"
   ]
  },
  {
   "cell_type": "code",
   "execution_count": 3,
   "metadata": {},
   "outputs": [],
   "source": [
    "def geocode_city(city):\n",
    "    geolocator = Nominatim(user_agent=\"my_geocoder\")\n",
    "    location = geolocator.geocode(city)\n",
    "    return {\"city\": city, \"latitude\": location.latitude, \"longitude\": location.longitude}\n",
    "\n",
    "def geocode_cities(city_list):\n",
    "    geocoded_cities = [geocode_city(city) for city in city_list if geocode_city(city)]\n",
    "    return geocoded_cities\n",
    "\n",
    "# Geocode the list of cities\n",
    "geocoded_cities = geocode_cities(cities)"
   ]
  },
  {
   "cell_type": "code",
   "execution_count": 4,
   "metadata": {},
   "outputs": [],
   "source": [
    "# export geocoded cities to a json file\n",
    "with open(\"../data/city_coordinates.json\", \"w\") as f:\n",
    "    json.dump(geocoded_cities, f)"
   ]
  },
  {
   "cell_type": "markdown",
   "metadata": {},
   "source": [
    "### Use the open-meteo API to get weather data"
   ]
  },
  {
   "cell_type": "code",
   "execution_count": 5,
   "metadata": {},
   "outputs": [],
   "source": [
    "# Define our variables of interest as a list\n",
    "daily_variables_of_interest = [\n",
    "    \"temperature_2m_max\",\n",
    "    \"temperature_2m_min\",\n",
    "    \"temperature_2m_mean\",\n",
    "    \"daylight_duration\",\n",
    "    \"sunshine_duration\",\n",
    "    \"precipitation_sum\",\n",
    "    \"rain_sum\",\n",
    "    \"precipitation_hours\",\n",
    "]\n",
    "\n",
    "# Create the API params dictionary\n",
    "params = {\n",
    "    \"latitude\": [city[\"latitude\"] for city in geocoded_cities],\n",
    "    \"longitude\": [city[\"longitude\"] for city in geocoded_cities],\n",
    "    \"start_date\": \"1940-01-01\",\n",
    "    \"end_date\": \"2023-12-31\",\n",
    "    \"daily\": daily_variables_of_interest,\n",
    "}"
   ]
  },
  {
   "cell_type": "code",
   "execution_count": 6,
   "metadata": {},
   "outputs": [],
   "source": [
    "# Setup the Open-Meteo API client with cache and retry on error\n",
    "cache_session = requests_cache.CachedSession('.cache', expire_after = -1)\n",
    "retry_session = retry(cache_session, retries = 5, backoff_factor = 0.2)\n",
    "openmeteo = openmeteo_requests.Client(session = retry_session)\n",
    "\n",
    "# Make sure all required weather variables are listed here\n",
    "# The order of variables in hourly or daily is important to assign them correctly below\n",
    "url = \"https://archive-api.open-meteo.com/v1/archive\"\n",
    "responses = openmeteo.weather_api(url, params=params)"
   ]
  },
  {
   "cell_type": "code",
   "execution_count": 7,
   "metadata": {},
   "outputs": [],
   "source": [
    "# List comprehension to create a list of dataframes\n",
    "dataframes_list = [cf.process_response(response, geocoded_cities, i) for i, response in enumerate(responses)]"
   ]
  },
  {
   "cell_type": "code",
   "execution_count": 8,
   "metadata": {},
   "outputs": [],
   "source": [
    "merged_df = pd.concat(dataframes_list, ignore_index=True)\n",
    "merged_df.to_csv(\"../data/weather_data.csv\", index=False)"
   ]
  },
  {
   "cell_type": "markdown",
   "metadata": {},
   "source": [
    "### Scrape the NGRAM data into dataframes"
   ]
  },
  {
   "cell_type": "code",
   "execution_count": 13,
   "metadata": {},
   "outputs": [],
   "source": [
    "#Collecting percentages for rain data\n",
    "NGRAMSrain_df = pd.DataFrame()\n",
    "queries_rain = [\"London rain\", \"London Rain\", \"rainy London\", \"rain in London\", \"Rain in London\", \"raining in London\", \"Raining in London\"]\n",
    "\n",
    "for query in queries_rain:\n",
    "    df_queries_rain = cf.runQuery(query)\n",
    "    NGRAMSrain_df = pd.concat([NGRAMSrain_df, df_queries_rain])\n",
    "\n",
    "NGRAMSrain_df.reset_index(drop=True, inplace=True)\n",
    "NGRAMSrain_df.rename(columns={'Absolute Appearance %': 'Rain Absolute Appearance %'}, inplace=True)\n",
    "\n",
    "#Summing the appearances into one dataframe\n",
    "NGRAMSrain_df_grouped = NGRAMSrain_df.groupby('Year').sum().reset_index()\n",
    "NGRAMSrain_df_grouped = NGRAMSrain_df_grouped.loc[:, ['Year', 'Rain Absolute Appearance %']]\n",
    "\n",
    "# Create a new column by dividing each item in the 'Appearances' column by the first item in the column\n",
    "NGRAMSrain_df_grouped['Rain Relative Appearance %'] = NGRAMSrain_df_grouped['Rain Absolute Appearance %'].apply(lambda x: x / NGRAMSrain_df_grouped['Rain Absolute Appearance %'].iloc[0])\n"
   ]
  },
  {
   "cell_type": "code",
   "execution_count": 14,
   "metadata": {},
   "outputs": [],
   "source": [
    "#Collecting percentages for sun data\n",
    "NGRAMSsun_df = pd.DataFrame()\n",
    "queries_sun = [\"London sun\", \"London Sun\", \"sunny London\", \"sun in London\", \"Sun in London\"]\n",
    "\n",
    "for query in queries_sun:\n",
    "    df_queries_sun = cf.runQuery(query)\n",
    "    NGRAMSsun_df = pd.concat([NGRAMSsun_df, df_queries_sun])\n",
    "\n",
    "NGRAMSsun_df.reset_index(drop=True, inplace=True)\n",
    "NGRAMSsun_df.rename(columns={'Absolute Appearance %': 'Sun Absolute Appearance %'}, inplace=True)\n",
    "\n",
    "#Summing the appearances into one dataframe\n",
    "NGRAMSsun_df_grouped = NGRAMSsun_df.groupby('Year').sum().reset_index()\n",
    "NGRAMSsun_df_grouped = NGRAMSsun_df_grouped.loc[:, ['Year', 'Sun Absolute Appearance %']]\n",
    "\n",
    "# Create a new column by dividing each item in the 'Appearances' column by the first item in the column\n",
    "NGRAMSsun_df_grouped['Sun Relative Appearance %'] = NGRAMSsun_df_grouped['Sun Absolute Appearance %'].apply(lambda x: x / NGRAMSsun_df_grouped['Sun Absolute Appearance %'].iloc[0])\n"
   ]
  },
  {
   "cell_type": "code",
   "execution_count": 15,
   "metadata": {},
   "outputs": [],
   "source": [
    "#Collecting percentages for wind data\n",
    "NGRAMSwind_df = pd.DataFrame()\n",
    "queries_wind = [\"London wind\", \"London Wind\", \"windy London\", \"wind in London\", \"Wind in London\"]\n",
    "\n",
    "for query in queries_wind:\n",
    "    df_queries_wind = cf.runQuery(query)\n",
    "    NGRAMSwind_df = pd.concat([NGRAMSwind_df, df_queries_wind])\n",
    "\n",
    "NGRAMSwind_df.reset_index(drop=True, inplace=True)\n",
    "NGRAMSwind_df.rename(columns={'Absolute Appearance %': 'Wind Absolute Appearance %'}, inplace=True)\n",
    "\n",
    "#Sum the appearances into one dataframe\n",
    "NGRAMSwind_df_grouped = NGRAMSwind_df.groupby('Year').sum().reset_index()\n",
    "NGRAMSwind_df_grouped = NGRAMSwind_df_grouped.loc[:, ['Year', 'Wind Absolute Appearance %']]\n",
    "\n",
    "# Create a new column by dividing each item in the 'Appearances' column by the first item in the column\n",
    "NGRAMSwind_df_grouped['Wind Relative Appearance %'] = NGRAMSwind_df_grouped['Wind Absolute Appearance %'].apply(lambda x: x / NGRAMSwind_df_grouped['Wind Absolute Appearance %'].iloc[0])\n"
   ]
  },
  {
   "cell_type": "code",
   "execution_count": 17,
   "metadata": {},
   "outputs": [
    {
     "data": {
      "text/html": [
       "<div>\n",
       "<style scoped>\n",
       "    .dataframe tbody tr th:only-of-type {\n",
       "        vertical-align: middle;\n",
       "    }\n",
       "\n",
       "    .dataframe tbody tr th {\n",
       "        vertical-align: top;\n",
       "    }\n",
       "\n",
       "    .dataframe thead th {\n",
       "        text-align: right;\n",
       "    }\n",
       "</style>\n",
       "<table border=\"1\" class=\"dataframe\">\n",
       "  <thead>\n",
       "    <tr style=\"text-align: right;\">\n",
       "      <th></th>\n",
       "      <th>Year</th>\n",
       "      <th>Rain Absolute Appearance %</th>\n",
       "      <th>Rain Relative Appearance %</th>\n",
       "      <th>Sun Absolute Appearance %</th>\n",
       "      <th>Sun Relative Appearance %</th>\n",
       "      <th>Wind Absolute Appearance %</th>\n",
       "      <th>Wind Relative Appearance %</th>\n",
       "    </tr>\n",
       "  </thead>\n",
       "  <tbody>\n",
       "    <tr>\n",
       "      <th>0</th>\n",
       "      <td>1940</td>\n",
       "      <td>2.731485e-09</td>\n",
       "      <td>1.000000</td>\n",
       "      <td>2.793287e-09</td>\n",
       "      <td>1.000000</td>\n",
       "      <td>1.084660e-09</td>\n",
       "      <td>1.000000</td>\n",
       "    </tr>\n",
       "    <tr>\n",
       "      <th>1</th>\n",
       "      <td>1941</td>\n",
       "      <td>2.756745e-09</td>\n",
       "      <td>1.009248</td>\n",
       "      <td>3.167608e-09</td>\n",
       "      <td>1.134007</td>\n",
       "      <td>1.089897e-09</td>\n",
       "      <td>1.004827</td>\n",
       "    </tr>\n",
       "    <tr>\n",
       "      <th>2</th>\n",
       "      <td>1942</td>\n",
       "      <td>2.743879e-09</td>\n",
       "      <td>1.004537</td>\n",
       "      <td>3.083440e-09</td>\n",
       "      <td>1.103875</td>\n",
       "      <td>1.157072e-09</td>\n",
       "      <td>1.066760</td>\n",
       "    </tr>\n",
       "    <tr>\n",
       "      <th>3</th>\n",
       "      <td>1943</td>\n",
       "      <td>2.774656e-09</td>\n",
       "      <td>1.015805</td>\n",
       "      <td>3.075601e-09</td>\n",
       "      <td>1.101069</td>\n",
       "      <td>1.440626e-09</td>\n",
       "      <td>1.328182</td>\n",
       "    </tr>\n",
       "    <tr>\n",
       "      <th>4</th>\n",
       "      <td>1944</td>\n",
       "      <td>2.788329e-09</td>\n",
       "      <td>1.020811</td>\n",
       "      <td>2.835732e-09</td>\n",
       "      <td>1.015196</td>\n",
       "      <td>1.480596e-09</td>\n",
       "      <td>1.365032</td>\n",
       "    </tr>\n",
       "    <tr>\n",
       "      <th>...</th>\n",
       "      <td>...</td>\n",
       "      <td>...</td>\n",
       "      <td>...</td>\n",
       "      <td>...</td>\n",
       "      <td>...</td>\n",
       "      <td>...</td>\n",
       "      <td>...</td>\n",
       "    </tr>\n",
       "    <tr>\n",
       "      <th>75</th>\n",
       "      <td>2015</td>\n",
       "      <td>1.111827e-08</td>\n",
       "      <td>4.070414</td>\n",
       "      <td>5.463863e-09</td>\n",
       "      <td>1.956069</td>\n",
       "      <td>1.383531e-09</td>\n",
       "      <td>1.275543</td>\n",
       "    </tr>\n",
       "    <tr>\n",
       "      <th>76</th>\n",
       "      <td>2016</td>\n",
       "      <td>1.074132e-08</td>\n",
       "      <td>3.932411</td>\n",
       "      <td>5.351956e-09</td>\n",
       "      <td>1.916006</td>\n",
       "      <td>1.426971e-09</td>\n",
       "      <td>1.315592</td>\n",
       "    </tr>\n",
       "    <tr>\n",
       "      <th>77</th>\n",
       "      <td>2017</td>\n",
       "      <td>1.051684e-08</td>\n",
       "      <td>3.850227</td>\n",
       "      <td>5.551843e-09</td>\n",
       "      <td>1.987566</td>\n",
       "      <td>1.437869e-09</td>\n",
       "      <td>1.325640</td>\n",
       "    </tr>\n",
       "    <tr>\n",
       "      <th>78</th>\n",
       "      <td>2018</td>\n",
       "      <td>1.025569e-08</td>\n",
       "      <td>3.754620</td>\n",
       "      <td>5.736526e-09</td>\n",
       "      <td>2.053683</td>\n",
       "      <td>1.327745e-09</td>\n",
       "      <td>1.224112</td>\n",
       "    </tr>\n",
       "    <tr>\n",
       "      <th>79</th>\n",
       "      <td>2019</td>\n",
       "      <td>9.441445e-09</td>\n",
       "      <td>3.456525</td>\n",
       "      <td>5.580970e-09</td>\n",
       "      <td>1.997994</td>\n",
       "      <td>1.371307e-09</td>\n",
       "      <td>1.264274</td>\n",
       "    </tr>\n",
       "  </tbody>\n",
       "</table>\n",
       "<p>80 rows × 7 columns</p>\n",
       "</div>"
      ],
      "text/plain": [
       "    Year  Rain Absolute Appearance %  Rain Relative Appearance %  \\\n",
       "0   1940                2.731485e-09                    1.000000   \n",
       "1   1941                2.756745e-09                    1.009248   \n",
       "2   1942                2.743879e-09                    1.004537   \n",
       "3   1943                2.774656e-09                    1.015805   \n",
       "4   1944                2.788329e-09                    1.020811   \n",
       "..   ...                         ...                         ...   \n",
       "75  2015                1.111827e-08                    4.070414   \n",
       "76  2016                1.074132e-08                    3.932411   \n",
       "77  2017                1.051684e-08                    3.850227   \n",
       "78  2018                1.025569e-08                    3.754620   \n",
       "79  2019                9.441445e-09                    3.456525   \n",
       "\n",
       "    Sun Absolute Appearance %  Sun Relative Appearance %  \\\n",
       "0                2.793287e-09                   1.000000   \n",
       "1                3.167608e-09                   1.134007   \n",
       "2                3.083440e-09                   1.103875   \n",
       "3                3.075601e-09                   1.101069   \n",
       "4                2.835732e-09                   1.015196   \n",
       "..                        ...                        ...   \n",
       "75               5.463863e-09                   1.956069   \n",
       "76               5.351956e-09                   1.916006   \n",
       "77               5.551843e-09                   1.987566   \n",
       "78               5.736526e-09                   2.053683   \n",
       "79               5.580970e-09                   1.997994   \n",
       "\n",
       "    Wind Absolute Appearance %  Wind Relative Appearance %  \n",
       "0                 1.084660e-09                    1.000000  \n",
       "1                 1.089897e-09                    1.004827  \n",
       "2                 1.157072e-09                    1.066760  \n",
       "3                 1.440626e-09                    1.328182  \n",
       "4                 1.480596e-09                    1.365032  \n",
       "..                         ...                         ...  \n",
       "75                1.383531e-09                    1.275543  \n",
       "76                1.426971e-09                    1.315592  \n",
       "77                1.437869e-09                    1.325640  \n",
       "78                1.327745e-09                    1.224112  \n",
       "79                1.371307e-09                    1.264274  \n",
       "\n",
       "[80 rows x 7 columns]"
      ]
     },
     "execution_count": 17,
     "metadata": {},
     "output_type": "execute_result"
    }
   ],
   "source": [
    "# Merge all the NGRAMS dataframes together\n",
    "NGRAMS_df_grouped = pd.merge(NGRAMSrain_df_grouped, NGRAMSsun_df_grouped, on='Year')\n",
    "NGRAMS_df_grouped = pd.merge(NGRAMS_df_grouped, NGRAMSwind_df_grouped, on='Year')\n",
    "\n",
    "# Convert NGRAM_df_grouped into a csv file\n",
    "NGRAMS_df_grouped.to_csv('../data/perception_data.csv', index=False)\n",
    "\n",
    "# Display NGRAM_df_grouped\n",
    "NGRAMS_df_grouped"
   ]
  },
  {
   "cell_type": "markdown",
   "metadata": {},
   "source": [
    "Google NGRAMS API request:\n",
    "\n",
    "What are Google NGRAMS ?\n",
    "\n",
    "NGRAM queries on Google NGRAM allows the user to see the percentage of appearance of such query amongst all the words accounted for in all the books present on Google Books.\n",
    "\n",
    "We want to scrape data on rain, sun and wind in London.\n",
    "\n",
    "Step 1\n",
    "We started off by making a list of the queries we wanted to run for each rain, sun and wind. We alternated between capital and small letters when possible to collect as much perception data as possible.\n",
    "LISTS OF QUERIES\n",
    "\n",
    "We then used a for loop and the runQuery function to extract the appearance percentages from 1940 to 2019 of each query. The extracted data, being first in a json format, is then organised in a dataframe.\n",
    "FUNCTION\n",
    "\n",
    "We end up with 3 dataframes: NGRAMSrain_df, NGRAMSsun_df and NGRAMSwind_df.\n",
    "EXAMPLE DATAFRAME RAIN\n",
    "\n",
    "Step 2\n",
    "In each dataframe, we summed up all different queries' perceptions for each year. This enabled us to have a general perception for a given year. The associated new dataframes wwere named NGRAMSrain_df_grouped, NGRAMSsun_df_grouped and NGRAMSwind_df_grouped.\n",
    "\n",
    "Step 3\n",
    "We created a new column which represents the relative appearance percentages. This was done by dividing percentages in each row by the first row. The column brings a clearer image of the change in these perceptions.\n",
    "DATAFRAME RAIN WITH REL\n",
    "\n",
    "Step 4\n",
    "We merged the 3 dataframes into one general perception dataframe NGRAMS_df_grouped. It organises data on absolute and relative appearance percentages for rain, wind, and sun queries from 1940 to 2019.\n",
    "FINAL DATAFRAME"
   ]
  },
  {
   "cell_type": "markdown",
   "metadata": {},
   "source": [
    "# Create a SQL database using the following terminal commands:\n",
    "- ```rm data/rainy.db``` Deletes the database if it is there (this is only run if we have updated our data)\n",
    "- ```sqlite3 data/rainy.db``` Enters the SQL shell.\n",
    "- ```.mode csv``` Changes mode to CSV.\n",
    "- ```.import data/weather_data.csv weather``` Import each CSV as a new table.\n",
    "- ```.import data/perception_data.csv perception```\n",
    "- ```SELECT * FROM perception``` Check the data has loaded properly.\n",
    "- ```SELECT * FROM weather```\n",
    "- ```.quit``` Exits the SQL shell."
   ]
  },
  {
   "cell_type": "markdown",
   "metadata": {},
   "source": [
    "# Adjust the datatypes to the most efficient using the following SQL code run in the SQLTools VSCode Extension:\n",
    "```SQL\n",
    "CREATE TABLE new_weather (\n",
    "    date DATE,\n",
    "    city VARCHAR(18),\n",
    "    temperature_2m_max DECIMAL(7,4),\n",
    "    temperature_2m_min DECIMAL(7,4),\n",
    "    temperature_2m_mean DECIMAL(7,4),\n",
    "    daylight_duration DECIMAL(9,3),\n",
    "    sunshine_duration DECIMAL(9,3),\n",
    "    precipitation_sum DECIMAL(8,5),\n",
    "    rain_sum DECIMAL(8,5),\n",
    "    precipitation_hours TINYINT UNSIGNED\n",
    ");\n",
    "\n",
    "INSERT INTO new_weather (date, city, temperature_2m_max, temperature_2m_min, temperature_2m_mean,\n",
    "                         daylight_duration, sunshine_duration, precipitation_sum, rain_sum, precipitation_hours)\n",
    "SELECT date, city, temperature_2m_max, temperature_2m_min, temperature_2m_mean,\n",
    "       daylight_duration, sunshine_duration, precipitation_sum, rain_sum, precipitation_hours\n",
    "FROM weather;\n",
    "\n",
    "DROP TABLE weather;\n",
    "\n",
    "ALTER TABLE new_weather RENAME TO weather;\n",
    "\n",
    "CREATE TABLE new_perception (\n",
    "    Year YEAR,\n",
    "    Perception DECIMAL(18,16)\n",
    ");\n",
    "\n",
    "INSERT INTO new_perception (Year, Perception) SELECT Year, Perception FROM perception;\n",
    "\n",
    "DROP TABLE perception;\n",
    "\n",
    "ALTER TABLE new_perception RENAME TO perception;\n",
    "```"
   ]
  },
  {
   "cell_type": "code",
   "execution_count": 2,
   "metadata": {},
   "outputs": [],
   "source": [
    "engine = create_engine('sqlite:///../data/rainy.db', echo=False, isolation_level=\"AUTOCOMMIT\")\n",
    "\n",
    "with engine.connect() as conn:\n",
    "    pass"
   ]
  },
  {
   "cell_type": "code",
   "execution_count": 3,
   "metadata": {},
   "outputs": [],
   "source": [
    "df = pd.read_sql('SELECT * FROM perception', engine)"
   ]
  }
 ],
 "metadata": {
  "kernelspec": {
   "display_name": "base",
   "language": "python",
   "name": "python3"
  },
  "language_info": {
   "codemirror_mode": {
    "name": "ipython",
    "version": 3
   },
   "file_extension": ".py",
   "mimetype": "text/x-python",
   "name": "python",
   "nbconvert_exporter": "python",
   "pygments_lexer": "ipython3",
   "version": "3.9.13"
  }
 },
 "nbformat": 4,
 "nbformat_minor": 2
}
