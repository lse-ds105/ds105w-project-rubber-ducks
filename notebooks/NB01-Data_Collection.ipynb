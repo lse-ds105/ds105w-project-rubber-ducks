{
 "cells": [
  {
   "cell_type": "markdown",
   "metadata": {},
   "source": [
    "# Data Collection\n",
    "- Get list of 20 most visited cities.\n",
    "- Create a dictionary with coordinates of 20 most visited cities."
   ]
  },
  {
   "cell_type": "code",
   "execution_count": 1,
   "metadata": {},
   "outputs": [],
   "source": [
    "import tqdm\n",
    "import urllib\n",
    "import pandas as pd\n",
    "import requests\n",
    "from scrapy import Selector\n",
    "import json\n",
    "import custom_functions as cf\n",
    "from geopy.geocoders import Nominatim\n",
    "import openmeteo_requests\n",
    "import requests_cache\n",
    "from retry_requests import retry\n",
    "from sqlalchemy import create_engine"
   ]
  },
  {
   "cell_type": "markdown",
   "metadata": {},
   "source": [
    "### Get a list of the 20 most visited cities:"
   ]
  },
  {
   "cell_type": "code",
   "execution_count": 2,
   "metadata": {},
   "outputs": [],
   "source": [
    "cities_url = \"https://travelness.com/most-visited-cities-in-the-world\" # URL of the page with the list of cities\n",
    "\n",
    "response = requests.get(cities_url)\n",
    "sel = Selector(response)\n",
    "\n",
    "cities = sel.xpath(\"//table//tr/td[2]/text()\").getall()"
   ]
  },
  {
   "cell_type": "markdown",
   "metadata": {},
   "source": [
    "### Get the City Stereotypes about weather for these 20 cities"
   ]
  },
  {
   "cell_type": "code",
   "execution_count": 3,
   "metadata": {},
   "outputs": [],
   "source": [
    "suggestion_list = cf.extract_words(cities)"
   ]
  },
  {
   "cell_type": "code",
   "execution_count": 4,
   "metadata": {},
   "outputs": [],
   "source": [
    "filtered_weather_words = cf.filter_weather_words(suggestion_list)"
   ]
  },
  {
   "cell_type": "code",
   "execution_count": 5,
   "metadata": {},
   "outputs": [],
   "source": [
    "# Export the dict to a json file\n",
    "with open('./../data/filtered_weather_words.json','w') as file:\n",
    "    json.dump(filtered_weather_words,file)"
   ]
  },
  {
   "cell_type": "markdown",
   "metadata": {},
   "source": [
    "### Use OpenStreetMaps API to convert the city names into coordinates"
   ]
  },
  {
   "cell_type": "code",
   "execution_count": 3,
   "metadata": {},
   "outputs": [],
   "source": [
    "def geocode_city(city):\n",
    "    geolocator = Nominatim(user_agent=\"my_geocoder\")\n",
    "    location = geolocator.geocode(city)\n",
    "    return {\"city\": city, \"latitude\": location.latitude, \"longitude\": location.longitude}\n",
    "\n",
    "def geocode_cities(city_list):\n",
    "    geocoded_cities = [geocode_city(city) for city in city_list if geocode_city(city)]\n",
    "    return geocoded_cities\n",
    "\n",
    "# Geocode the list of cities\n",
    "geocoded_cities = geocode_cities(cities)"
   ]
  },
  {
   "cell_type": "code",
   "execution_count": 4,
   "metadata": {},
   "outputs": [],
   "source": [
    "# export geocoded cities to a json file\n",
    "with open(\"../data/city_coordinates.json\", \"w\") as f:\n",
    "    json.dump(geocoded_cities, f)"
   ]
  },
  {
   "cell_type": "markdown",
   "metadata": {},
   "source": [
    "### Use the open-meteo API to get weather data"
   ]
  },
  {
   "cell_type": "code",
   "execution_count": 5,
   "metadata": {},
   "outputs": [],
   "source": [
    "# Define our variables of interest as a list\n",
    "daily_variables_of_interest = [\n",
    "    \"temperature_2m_max\",\n",
    "    \"temperature_2m_min\",\n",
    "    \"temperature_2m_mean\",\n",
    "    \"daylight_duration\",\n",
    "    \"sunshine_duration\",\n",
    "    \"precipitation_sum\",\n",
    "    \"rain_sum\",\n",
    "    \"precipitation_hours\",\n",
    "]\n",
    "\n",
    "# Create the API params dictionary\n",
    "params = {\n",
    "    \"latitude\": [city[\"latitude\"] for city in geocoded_cities],\n",
    "    \"longitude\": [city[\"longitude\"] for city in geocoded_cities],\n",
    "    \"start_date\": \"1940-01-01\",\n",
    "    \"end_date\": \"2023-12-31\",\n",
    "    \"daily\": daily_variables_of_interest,\n",
    "}"
   ]
  },
  {
   "cell_type": "code",
   "execution_count": 6,
   "metadata": {},
   "outputs": [],
   "source": [
    "# Setup the Open-Meteo API client with cache and retry on error\n",
    "cache_session = requests_cache.CachedSession('.cache', expire_after = -1)\n",
    "retry_session = retry(cache_session, retries = 5, backoff_factor = 0.2)\n",
    "openmeteo = openmeteo_requests.Client(session = retry_session)\n",
    "\n",
    "# Make sure all required weather variables are listed here\n",
    "# The order of variables in hourly or daily is important to assign them correctly below\n",
    "url = \"https://archive-api.open-meteo.com/v1/archive\"\n",
    "responses = openmeteo.weather_api(url, params=params)"
   ]
  },
  {
   "cell_type": "code",
   "execution_count": 7,
   "metadata": {},
   "outputs": [],
   "source": [
    "# List comprehension to create a list of dataframes\n",
    "dataframes_list = [cf.process_response(response, geocoded_cities, i) for i, response in enumerate(responses)]"
   ]
  },
  {
   "cell_type": "code",
   "execution_count": 8,
   "metadata": {},
   "outputs": [],
   "source": [
    "merged_df = pd.concat(dataframes_list, ignore_index=True)\n",
    "merged_df.to_csv(\"../data/weather_data.csv\", index=False)"
   ]
  },
  {
   "cell_type": "markdown",
   "metadata": {},
   "source": [
    "### Scrape the NGRAM data into dataframes"
   ]
  },
  {
   "cell_type": "code",
   "execution_count": 11,
   "metadata": {},
   "outputs": [
    {
     "data": {
      "text/html": [
       "<div>\n",
       "<style scoped>\n",
       "    .dataframe tbody tr th:only-of-type {\n",
       "        vertical-align: middle;\n",
       "    }\n",
       "\n",
       "    .dataframe tbody tr th {\n",
       "        vertical-align: top;\n",
       "    }\n",
       "\n",
       "    .dataframe thead th {\n",
       "        text-align: right;\n",
       "    }\n",
       "</style>\n",
       "<table border=\"1\" class=\"dataframe\">\n",
       "  <thead>\n",
       "    <tr style=\"text-align: right;\">\n",
       "      <th></th>\n",
       "      <th>query</th>\n",
       "      <th>Year</th>\n",
       "      <th>Appearances</th>\n",
       "    </tr>\n",
       "  </thead>\n",
       "  <tbody>\n",
       "    <tr>\n",
       "      <th>0</th>\n",
       "      <td>London rain</td>\n",
       "      <td>1940</td>\n",
       "      <td>8.224380e-10</td>\n",
       "    </tr>\n",
       "    <tr>\n",
       "      <th>1</th>\n",
       "      <td>London rain</td>\n",
       "      <td>1941</td>\n",
       "      <td>6.946620e-10</td>\n",
       "    </tr>\n",
       "    <tr>\n",
       "      <th>2</th>\n",
       "      <td>London rain</td>\n",
       "      <td>1942</td>\n",
       "      <td>5.788850e-10</td>\n",
       "    </tr>\n",
       "    <tr>\n",
       "      <th>3</th>\n",
       "      <td>London rain</td>\n",
       "      <td>1943</td>\n",
       "      <td>5.777963e-10</td>\n",
       "    </tr>\n",
       "    <tr>\n",
       "      <th>4</th>\n",
       "      <td>London rain</td>\n",
       "      <td>1944</td>\n",
       "      <td>5.943155e-10</td>\n",
       "    </tr>\n",
       "    <tr>\n",
       "      <th>...</th>\n",
       "      <td>...</td>\n",
       "      <td>...</td>\n",
       "      <td>...</td>\n",
       "    </tr>\n",
       "    <tr>\n",
       "      <th>555</th>\n",
       "      <td>Raining in London</td>\n",
       "      <td>2015</td>\n",
       "      <td>5.425769e-11</td>\n",
       "    </tr>\n",
       "    <tr>\n",
       "      <th>556</th>\n",
       "      <td>Raining in London</td>\n",
       "      <td>2016</td>\n",
       "      <td>5.221881e-11</td>\n",
       "    </tr>\n",
       "    <tr>\n",
       "      <th>557</th>\n",
       "      <td>Raining in London</td>\n",
       "      <td>2017</td>\n",
       "      <td>3.226468e-11</td>\n",
       "    </tr>\n",
       "    <tr>\n",
       "      <th>558</th>\n",
       "      <td>Raining in London</td>\n",
       "      <td>2018</td>\n",
       "      <td>3.871761e-11</td>\n",
       "    </tr>\n",
       "    <tr>\n",
       "      <th>559</th>\n",
       "      <td>Raining in London</td>\n",
       "      <td>2019</td>\n",
       "      <td>3.905226e-11</td>\n",
       "    </tr>\n",
       "  </tbody>\n",
       "</table>\n",
       "<p>560 rows × 3 columns</p>\n",
       "</div>"
      ],
      "text/plain": [
       "                 query  Year   Appearances\n",
       "0          London rain  1940  8.224380e-10\n",
       "1          London rain  1941  6.946620e-10\n",
       "2          London rain  1942  5.788850e-10\n",
       "3          London rain  1943  5.777963e-10\n",
       "4          London rain  1944  5.943155e-10\n",
       "..                 ...   ...           ...\n",
       "555  Raining in London  2015  5.425769e-11\n",
       "556  Raining in London  2016  5.221881e-11\n",
       "557  Raining in London  2017  3.226468e-11\n",
       "558  Raining in London  2018  3.871761e-11\n",
       "559  Raining in London  2019  3.905226e-11\n",
       "\n",
       "[560 rows x 3 columns]"
      ]
     },
     "execution_count": 11,
     "metadata": {},
     "output_type": "execute_result"
    }
   ],
   "source": [
    "NGRAMS_df = pd.DataFrame()\n",
    "queries = [\"London rain\", \"London Rain\", \"rainy London\", \"rain in London\", \"Rain in London\", \"raining in London\", \"Raining in London\"]\n",
    "\n",
    "for query in queries:\n",
    "    df_query = cf.runQuery(query)\n",
    "    NGRAMS_df = pd.concat([NGRAMS_df, df_query])\n",
    "\n",
    "NGRAMS_df.reset_index(drop=True, inplace=True)\n",
    "NGRAMS_df"
   ]
  },
  {
   "cell_type": "markdown",
   "metadata": {},
   "source": [
    "### Sum the appearances into one dataframe"
   ]
  },
  {
   "cell_type": "code",
   "execution_count": 12,
   "metadata": {},
   "outputs": [
    {
     "data": {
      "text/html": [
       "<div>\n",
       "<style scoped>\n",
       "    .dataframe tbody tr th:only-of-type {\n",
       "        vertical-align: middle;\n",
       "    }\n",
       "\n",
       "    .dataframe tbody tr th {\n",
       "        vertical-align: top;\n",
       "    }\n",
       "\n",
       "    .dataframe thead th {\n",
       "        text-align: right;\n",
       "    }\n",
       "</style>\n",
       "<table border=\"1\" class=\"dataframe\">\n",
       "  <thead>\n",
       "    <tr style=\"text-align: right;\">\n",
       "      <th></th>\n",
       "      <th>Year</th>\n",
       "      <th>Appearances</th>\n",
       "    </tr>\n",
       "  </thead>\n",
       "  <tbody>\n",
       "    <tr>\n",
       "      <th>0</th>\n",
       "      <td>1940</td>\n",
       "      <td>2.731485e-09</td>\n",
       "    </tr>\n",
       "    <tr>\n",
       "      <th>1</th>\n",
       "      <td>1941</td>\n",
       "      <td>2.756745e-09</td>\n",
       "    </tr>\n",
       "    <tr>\n",
       "      <th>2</th>\n",
       "      <td>1942</td>\n",
       "      <td>2.743879e-09</td>\n",
       "    </tr>\n",
       "    <tr>\n",
       "      <th>3</th>\n",
       "      <td>1943</td>\n",
       "      <td>2.774656e-09</td>\n",
       "    </tr>\n",
       "    <tr>\n",
       "      <th>4</th>\n",
       "      <td>1944</td>\n",
       "      <td>2.788329e-09</td>\n",
       "    </tr>\n",
       "    <tr>\n",
       "      <th>...</th>\n",
       "      <td>...</td>\n",
       "      <td>...</td>\n",
       "    </tr>\n",
       "    <tr>\n",
       "      <th>75</th>\n",
       "      <td>2015</td>\n",
       "      <td>1.111827e-08</td>\n",
       "    </tr>\n",
       "    <tr>\n",
       "      <th>76</th>\n",
       "      <td>2016</td>\n",
       "      <td>1.074132e-08</td>\n",
       "    </tr>\n",
       "    <tr>\n",
       "      <th>77</th>\n",
       "      <td>2017</td>\n",
       "      <td>1.051684e-08</td>\n",
       "    </tr>\n",
       "    <tr>\n",
       "      <th>78</th>\n",
       "      <td>2018</td>\n",
       "      <td>1.025569e-08</td>\n",
       "    </tr>\n",
       "    <tr>\n",
       "      <th>79</th>\n",
       "      <td>2019</td>\n",
       "      <td>9.441445e-09</td>\n",
       "    </tr>\n",
       "  </tbody>\n",
       "</table>\n",
       "<p>80 rows × 2 columns</p>\n",
       "</div>"
      ],
      "text/plain": [
       "    Year   Appearances\n",
       "0   1940  2.731485e-09\n",
       "1   1941  2.756745e-09\n",
       "2   1942  2.743879e-09\n",
       "3   1943  2.774656e-09\n",
       "4   1944  2.788329e-09\n",
       "..   ...           ...\n",
       "75  2015  1.111827e-08\n",
       "76  2016  1.074132e-08\n",
       "77  2017  1.051684e-08\n",
       "78  2018  1.025569e-08\n",
       "79  2019  9.441445e-09\n",
       "\n",
       "[80 rows x 2 columns]"
      ]
     },
     "execution_count": 12,
     "metadata": {},
     "output_type": "execute_result"
    }
   ],
   "source": [
    "NGRAMS_df_grouped = NGRAMS_df.groupby('Year').sum().reset_index()\n",
    "NGRAMS_df_grouped = NGRAMS_df_grouped.loc[:, ['Year', 'Appearances']]\n",
    "NGRAMS_df_grouped"
   ]
  },
  {
   "cell_type": "code",
   "execution_count": 13,
   "metadata": {},
   "outputs": [
    {
     "data": {
      "text/html": [
       "<div>\n",
       "<style scoped>\n",
       "    .dataframe tbody tr th:only-of-type {\n",
       "        vertical-align: middle;\n",
       "    }\n",
       "\n",
       "    .dataframe tbody tr th {\n",
       "        vertical-align: top;\n",
       "    }\n",
       "\n",
       "    .dataframe thead th {\n",
       "        text-align: right;\n",
       "    }\n",
       "</style>\n",
       "<table border=\"1\" class=\"dataframe\">\n",
       "  <thead>\n",
       "    <tr style=\"text-align: right;\">\n",
       "      <th></th>\n",
       "      <th>Year</th>\n",
       "      <th>Perception</th>\n",
       "    </tr>\n",
       "  </thead>\n",
       "  <tbody>\n",
       "    <tr>\n",
       "      <th>0</th>\n",
       "      <td>1940</td>\n",
       "      <td>1.000000</td>\n",
       "    </tr>\n",
       "    <tr>\n",
       "      <th>1</th>\n",
       "      <td>1941</td>\n",
       "      <td>1.009248</td>\n",
       "    </tr>\n",
       "    <tr>\n",
       "      <th>2</th>\n",
       "      <td>1942</td>\n",
       "      <td>1.004537</td>\n",
       "    </tr>\n",
       "    <tr>\n",
       "      <th>3</th>\n",
       "      <td>1943</td>\n",
       "      <td>1.015805</td>\n",
       "    </tr>\n",
       "    <tr>\n",
       "      <th>4</th>\n",
       "      <td>1944</td>\n",
       "      <td>1.020811</td>\n",
       "    </tr>\n",
       "    <tr>\n",
       "      <th>...</th>\n",
       "      <td>...</td>\n",
       "      <td>...</td>\n",
       "    </tr>\n",
       "    <tr>\n",
       "      <th>75</th>\n",
       "      <td>2015</td>\n",
       "      <td>4.070414</td>\n",
       "    </tr>\n",
       "    <tr>\n",
       "      <th>76</th>\n",
       "      <td>2016</td>\n",
       "      <td>3.932411</td>\n",
       "    </tr>\n",
       "    <tr>\n",
       "      <th>77</th>\n",
       "      <td>2017</td>\n",
       "      <td>3.850227</td>\n",
       "    </tr>\n",
       "    <tr>\n",
       "      <th>78</th>\n",
       "      <td>2018</td>\n",
       "      <td>3.754620</td>\n",
       "    </tr>\n",
       "    <tr>\n",
       "      <th>79</th>\n",
       "      <td>2019</td>\n",
       "      <td>3.456525</td>\n",
       "    </tr>\n",
       "  </tbody>\n",
       "</table>\n",
       "<p>80 rows × 2 columns</p>\n",
       "</div>"
      ],
      "text/plain": [
       "    Year  Perception\n",
       "0   1940    1.000000\n",
       "1   1941    1.009248\n",
       "2   1942    1.004537\n",
       "3   1943    1.015805\n",
       "4   1944    1.020811\n",
       "..   ...         ...\n",
       "75  2015    4.070414\n",
       "76  2016    3.932411\n",
       "77  2017    3.850227\n",
       "78  2018    3.754620\n",
       "79  2019    3.456525\n",
       "\n",
       "[80 rows x 2 columns]"
      ]
     },
     "execution_count": 13,
     "metadata": {},
     "output_type": "execute_result"
    }
   ],
   "source": [
    "# divide each item in the 'Appearances' column by the first item in the column\n",
    "NGRAMS_df_grouped['Appearances'] = NGRAMS_df_grouped['Appearances'].apply(lambda x: x / NGRAMS_df_grouped['Appearances'].iloc[0])\n",
    "NGRAMS_df_grouped = NGRAMS_df_grouped.rename(columns={'Appearances': 'Perception'})\n",
    "\n",
    "NGRAMS_df_grouped"
   ]
  },
  {
   "cell_type": "code",
   "execution_count": 14,
   "metadata": {},
   "outputs": [],
   "source": [
    "# convert NGRAM_df_grouped into a csv file\n",
    "NGRAMS_df_grouped.to_csv('../data/perception_data.csv', index=False)"
   ]
  },
  {
   "cell_type": "markdown",
   "metadata": {},
   "source": [
    "# Create a SQL database using the following terminal commands:\n",
    "- ```rm data/rainy.db``` Deletes the database if it is there (this is only run if we have updated our data)\n",
    "- ```sqlite3 data/rainy.db``` Enters the SQL shell.\n",
    "- ```.mode csv``` Changes mode to CSV.\n",
    "- ```.import data/weather_data.csv weather``` Import each CSV as a new table.\n",
    "- ```.import data/perception_data.csv perception```\n",
    "- ```SELECT * FROM perception``` Check the data has loaded properly.\n",
    "- ```SELECT * FROM weather```\n",
    "- ```.quit``` Exits the SQL shell."
   ]
  },
  {
   "cell_type": "markdown",
   "metadata": {},
   "source": [
    "# Adjust the datatypes to the most efficient using the following SQL code run in the SQLTools VSCode Extension:\n",
    "```SQL\n",
    "CREATE TABLE new_weather (\n",
    "    date DATE,\n",
    "    city VARCHAR(18),\n",
    "    temperature_2m_max DECIMAL(7,4),\n",
    "    temperature_2m_min DECIMAL(7,4),\n",
    "    temperature_2m_mean DECIMAL(7,4),\n",
    "    daylight_duration DECIMAL(9,3),\n",
    "    sunshine_duration DECIMAL(9,3),\n",
    "    precipitation_sum DECIMAL(8,5),\n",
    "    rain_sum DECIMAL(8,5),\n",
    "    precipitation_hours TINYINT UNSIGNED\n",
    ");\n",
    "\n",
    "INSERT INTO new_weather (date, city, temperature_2m_max, temperature_2m_min, temperature_2m_mean,\n",
    "                         daylight_duration, sunshine_duration, precipitation_sum, rain_sum, precipitation_hours)\n",
    "SELECT date, city, temperature_2m_max, temperature_2m_min, temperature_2m_mean,\n",
    "       daylight_duration, sunshine_duration, precipitation_sum, rain_sum, precipitation_hours\n",
    "FROM weather;\n",
    "\n",
    "DROP TABLE weather;\n",
    "\n",
    "ALTER TABLE new_weather RENAME TO weather;\n",
    "\n",
    "CREATE TABLE new_perception (\n",
    "    Year YEAR,\n",
    "    Perception DECIMAL(18,16)\n",
    ");\n",
    "\n",
    "INSERT INTO new_perception (Year, Perception) SELECT Year, Perception FROM perception;\n",
    "\n",
    "DROP TABLE perception;\n",
    "\n",
    "ALTER TABLE new_perception RENAME TO perception;\n",
    "```"
   ]
  },
  {
   "cell_type": "code",
   "execution_count": 2,
   "metadata": {},
   "outputs": [],
   "source": [
    "engine = create_engine('sqlite:///../data/rainy.db', echo=False, isolation_level=\"AUTOCOMMIT\")\n",
    "\n",
    "with engine.connect() as conn:\n",
    "    pass"
   ]
  },
  {
   "cell_type": "code",
   "execution_count": 3,
   "metadata": {},
   "outputs": [],
   "source": [
    "df = pd.read_sql('SELECT * FROM perception', engine)"
   ]
  }
 ],
 "metadata": {
  "kernelspec": {
   "display_name": "base",
   "language": "python",
   "name": "python3"
  },
  "language_info": {
   "codemirror_mode": {
    "name": "ipython",
    "version": 3
   },
   "file_extension": ".py",
   "mimetype": "text/x-python",
   "name": "python",
   "nbconvert_exporter": "python",
   "pygments_lexer": "ipython3",
   "version": "3.12.1"
  }
 },
 "nbformat": 4,
 "nbformat_minor": 2
}
