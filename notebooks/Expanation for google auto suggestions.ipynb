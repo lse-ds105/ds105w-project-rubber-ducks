{
 "cells": [
  {
   "cell_type": "markdown",
   "metadata": {},
   "source": [
    "# Google auto-suggestions request"
   ]
  },
  {
   "cell_type": "markdown",
   "metadata": {},
   "source": [
    "### Step 1"
   ]
  },
  {
   "cell_type": "markdown",
   "metadata": {},
   "source": [
    "After having the top 20 most vistied cities, we can get auto suggestions for each city from google to see what stereotypes people have about that city using the requests library. We use two queries in this function to make the result richer."
   ]
  },
  {
   "cell_type": "markdown",
   "metadata": {},
   "source": [
    "**TIP:**\n",
    " 'Hong Kong SAR' is a term that emphasizes the administrative characteristic of the city, and it is rarely used in everyday life. Therefore, it is changed into 'Hong Kong' in this function to suit the spoken language."
   ]
  },
  {
   "cell_type": "code",
   "execution_count": 1,
   "metadata": {},
   "outputs": [],
   "source": [
    "import requests\n",
    "\n",
    "def get_auto_suggestions(city):\n",
    "    adjusted_city = 'Hong Kong' if city == 'Hong Kong SAR' else city\n",
    "    queries = [f\"why is {adjusted_city} so\", f\"why is {adjusted_city} always\"]\n",
    "    \n",
    "    all_suggestions = []\n",
    "    for query in queries:\n",
    "        url = f\"https://www.google.com/complete/search?q={query}&client=firefox\"\n",
    "        response = requests.get(url)\n",
    "        if response.status_code == 200:\n",
    "            suggestions = response.json()[1]\n",
    "            all_suggestions.extend(suggestions)\n",
    "        else:\n",
    "            print(f\"Fail: {query}\")\n",
    "    return all_suggestions"
   ]
  },
  {
   "cell_type": "markdown",
   "metadata": {},
   "source": [
    "This returns a list of simple sentences that needs to be processed. Here is the example of London:"
   ]
  },
  {
   "cell_type": "code",
   "execution_count": 3,
   "metadata": {},
   "outputs": [
    {
     "data": {
      "text/plain": [
       "['why is london so expensive',\n",
       " 'why is london so dangerous',\n",
       " 'why is london so popular',\n",
       " 'why is london so big',\n",
       " 'why is london so foggy',\n",
       " 'why is london so busy today',\n",
       " 'why is london so dirty',\n",
       " 'why is london so cold',\n",
       " 'why is london so cloudy',\n",
       " 'why is london so rainy',\n",
       " 'why is london always cloudy',\n",
       " 'why is london always rainy',\n",
       " 'why is london always cold',\n",
       " 'why is london always foggy',\n",
       " 'why is london always grey',\n",
       " 'why is london always raining',\n",
       " 'why is london always so cloudy',\n",
       " 'why is london always windy',\n",
       " 'why is london always gray',\n",
       " 'why is london always hotter']"
      ]
     },
     "execution_count": 3,
     "metadata": {},
     "output_type": "execute_result"
    }
   ],
   "source": [
    "get_auto_suggestions('London')"
   ]
  },
  {
   "cell_type": "markdown",
   "metadata": {},
   "source": [
    "### Step 2"
   ]
  },
  {
   "cell_type": "markdown",
   "metadata": {},
   "source": [
    "We then need to scrape all the 20 cities and extract the discriptive words in such lists which makes the output neat and clean. In this function, the re library is used to locate the position of those discriptive words."
   ]
  },
  {
   "cell_type": "code",
   "execution_count": null,
   "metadata": {},
   "outputs": [],
   "source": [
    "import re\n",
    "\n",
    "def extract_words(cities):\n",
    "    city_stereotype = {}\n",
    "    for city in cities:\n",
    "        suggestions = get_auto_suggestions(city)\n",
    "        stereotype_list = [] \n",
    "        for suggestion in suggestions:\n",
    "            if 'why' in suggestion.lower() and ('so' in suggestion.lower() or 'always' in suggestion.lower()):\n",
    "                suggestion_parts = {}\n",
    "                for delimiter in ['so', 'always']:\n",
    "                    suggestion_parts[delimiter] = re.split(fr'\\b{delimiter}\\b', suggestion)\n",
    "                    if len(suggestion_parts[delimiter]) > 1:\n",
    "                        stereotype = suggestion_parts[delimiter][1].strip()\n",
    "                        stereotype_list.append(stereotype)\n",
    "        full_stereotype_str = ', '.join(stereotype_list)\n",
    "        city_stereotype[city] = full_stereotype_str\n",
    "    return city_stereotype"
   ]
  },
  {
   "cell_type": "markdown",
   "metadata": {},
   "source": [
    "### Step 3"
   ]
  },
  {
   "cell_type": "code",
   "execution_count": null,
   "metadata": {},
   "outputs": [],
   "source": [
    "def filter_weather_words(suggestion_dict):\n",
    "    weather_words = [\"sunny\", \"rainy\", \"windy\", \"cloudy\", \"foggy\", \"hot\", \"cold\", \"stormy\", \"humid\", \"dry\", \"wet\"]\n",
    "    new_dict = {}\n",
    "    for key, words_str in suggestion_dict.items():\n",
    "        words_list = words_str.split(', ')\n",
    "        filtered_word_list = [word for word in words_list if word in weather_words]\n",
    "        new_dict[key] = filtered_word_list\n",
    "    return new_dict"
   ]
  }
 ],
 "metadata": {
  "kernelspec": {
   "display_name": "Python 3",
   "language": "python",
   "name": "python3"
  },
  "language_info": {
   "codemirror_mode": {
    "name": "ipython",
    "version": 3
   },
   "file_extension": ".py",
   "mimetype": "text/x-python",
   "name": "python",
   "nbconvert_exporter": "python",
   "pygments_lexer": "ipython3",
   "version": "3.12.1"
  }
 },
 "nbformat": 4,
 "nbformat_minor": 2
}
