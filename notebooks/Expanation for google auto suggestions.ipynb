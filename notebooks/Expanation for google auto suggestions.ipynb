{
 "cells": [
  {
   "cell_type": "markdown",
   "metadata": {},
   "source": [
    "# Google auto-suggestions request"
   ]
  },
  {
   "cell_type": "markdown",
   "metadata": {},
   "source": [
    "### Step 1"
   ]
  },
  {
   "cell_type": "markdown",
   "metadata": {},
   "source": [
    "After getting the top 20 most vistied cities, we can get auto suggestions for each city from google to see what stereotypes people have about that city using the requests library."
   ]
  },
  {
   "cell_type": "code",
   "execution_count": null,
   "metadata": {},
   "outputs": [],
   "source": [
    "import requests\n",
    "\n",
    "def get_auto_suggestions(city):\n",
    "    # 'Hong Kong SAR' is a term that emphasizes the administrative characteristic of the city\n",
    "    # And it is rarely used in everyday life, so in order to suit the Google Auto Suggestions\n",
    "    # it is changed into 'Hong Kong' in this function\n",
    "    adjusted_city = 'Hong Kong' if city == 'Hong Kong SAR' else city\n",
    "    \n",
    "    #There are more suggestions about weather in the second query, but some cities have no result in the second one\n",
    "    #So we use two queries to make the function better\n",
    "    queries = [f\"why is {adjusted_city} so\", f\"why is {adjusted_city} always\"]\n",
    "    all_suggestions = []\n",
    "    for query in queries:\n",
    "        url = f\"https://www.google.com/complete/search?q={query}&client=firefox\"\n",
    "        response = requests.get(url)\n",
    "        if response.status_code == 200:\n",
    "            suggestions = response.json()[1]\n",
    "            all_suggestions.extend(suggestions)\n",
    "        else:\n",
    "            print(f\"Fail: {query}\")\n",
    "    return all_suggestions"
   ]
  },
  {
   "cell_type": "markdown",
   "metadata": {},
   "source": [
    "### Step 2"
   ]
  },
  {
   "cell_type": "code",
   "execution_count": null,
   "metadata": {},
   "outputs": [],
   "source": [
    "# Extract the discriptive words of the suggestions and create a dictionary\n",
    "def extract_words(cities):\n",
    "    city_stereotype = {}\n",
    "    for city in cities:\n",
    "        suggestions = get_auto_suggestions(city)\n",
    "        stereotype_list = [] \n",
    "        for suggestion in suggestions:\n",
    "            if 'why' in suggestion.lower() and ('so' in suggestion.lower() or 'always' in suggestion.lower()):\n",
    "                suggestion_parts = {}\n",
    "                for delimiter in ['so', 'always']:\n",
    "                    suggestion_parts[delimiter] = re.split(fr'\\b{delimiter}\\b', suggestion)\n",
    "                    if len(suggestion_parts[delimiter]) > 1:\n",
    "                        stereotype = suggestion_parts[delimiter][1].strip()\n",
    "                        stereotype_list.append(stereotype)\n",
    "        full_stereotype_str = ', '.join(stereotype_list)\n",
    "        city_stereotype[city] = full_stereotype_str\n",
    "    return city_stereotype"
   ]
  },
  {
   "cell_type": "markdown",
   "metadata": {},
   "source": [
    "### Step 3"
   ]
  },
  {
   "cell_type": "code",
   "execution_count": null,
   "metadata": {},
   "outputs": [],
   "source": [
    "def filter_weather_words(suggestion_dict):\n",
    "    weather_words = [\"sunny\", \"rainy\", \"windy\", \"cloudy\", \"foggy\", \"hot\", \"cold\", \"stormy\", \"humid\", \"dry\", \"wet\"]\n",
    "    new_dict = {}\n",
    "    for key, words_str in suggestion_dict.items():\n",
    "        words_list = words_str.split(', ')\n",
    "        filtered_word_list = [word for word in words_list if word in weather_words]\n",
    "        new_dict[key] = filtered_word_list\n",
    "    return new_dict"
   ]
  }
 ],
 "metadata": {
  "language_info": {
   "name": "python"
  }
 },
 "nbformat": 4,
 "nbformat_minor": 2
}
